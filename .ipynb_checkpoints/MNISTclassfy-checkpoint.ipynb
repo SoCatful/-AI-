{
 "cells": [
  {
   "cell_type": "markdown",
   "id": "4230d06c-5781-450b-8656-65c8c236085e",
   "metadata": {},
   "source": [
    "# 导入必要的库文件："
   ]
  },
  {
   "cell_type": "code",
   "execution_count": 2,
   "id": "6f4ec3aa-925a-4c11-91d0-44286e2dcc49",
   "metadata": {},
   "outputs": [],
   "source": [
    "import torch\n",
    "import torch.nn as nn\n",
    "import torch.optim as optim\n",
    "from torch.utils.data import DataLoader\n",
    "from torchvision import datasets, transforms\n",
    "import matplotlib.pyplot as plt"
   ]
  },
  {
   "cell_type": "code",
   "execution_count": 3,
   "id": "24ae4d45-d2ef-4911-8ab0-1693bbf61c27",
   "metadata": {},
   "outputs": [],
   "source": [
    "transform = transforms.Compose([\n",
    "    transforms.ToTensor(),          # 将图像转为 Tensor，并归一化到 [0, 1]\n",
    "    transforms.Normalize((0.1307,), (0.3081,))  # 标准化\n",
    "])"
   ]
  },
  {
   "cell_type": "markdown",
   "id": "c63330f4-c876-470f-a12c-dab852586bc1",
   "metadata": {},
   "source": [
    "# 加载数据集"
   ]
  },
  {
   "cell_type": "code",
   "execution_count": 5,
   "id": "a7d58b43-88b5-4d22-a618-2a6aa22c5b86",
   "metadata": {},
   "outputs": [],
   "source": [
    "train_dataset = datasets.MNIST(\n",
    "    root='./data',          # 数据集保存路径\n",
    "    train=True,             # 加载训练集\n",
    "    download=True,          # 如果数据集不存在，则下载\n",
    "    transform=transform     # 应用定义的数据预处理\n",
    ")\n",
    "test_dataset = datasets.MNIST(\n",
    "    root='./data',          # 数据集保存路径\n",
    "    train=False,           # 加载测试集\n",
    "    download=True,          # 如果数据集不存在，则下载\n",
    "    transform=transform     # 应用定义的数据预处理\n",
    ")"
   ]
  },
  {
   "cell_type": "markdown",
   "id": "3b69cdfa-1ec4-4aea-aecc-9af5ce960b62",
   "metadata": {
    "jp-MarkdownHeadingCollapsed": true
   },
   "source": [
    "# 下面验证一下这个dataset的特性：\n",
    "## data 和 targets 是两个tensor类型"
   ]
  },
  {
   "cell_type": "code",
   "execution_count": 11,
   "id": "3dbde119-a9d2-4087-81ba-36c98a0459e7",
   "metadata": {},
   "outputs": [
    {
     "name": "stdout",
     "output_type": "stream",
     "text": [
      "torch.Size([60000, 28, 28])\n"
     ]
    }
   ],
   "source": [
    "print(train_dataset.data.shape)"
   ]
  },
  {
   "cell_type": "code",
   "execution_count": 12,
   "id": "dd51c345-a882-4cd2-bf9d-922988d5bdaf",
   "metadata": {},
   "outputs": [
    {
     "name": "stdout",
     "output_type": "stream",
     "text": [
      "torch.Size([60000])\n"
     ]
    }
   ],
   "source": [
    "print(train_dataset.targets.shape)"
   ]
  },
  {
   "cell_type": "code",
   "execution_count": 15,
   "id": "c1f5fc6d-9baf-44f7-a941-cb6c623d232f",
   "metadata": {},
   "outputs": [
    {
     "data": {
      "image/png": "[encoded data removed]",
      "text/plain": [
       "<Figure size 640x480 with 1 Axes>"
      ]
     },
     "metadata": {},
     "output_type": "display_data"
    }
   ],
   "source": [
    "image = train_dataset.data[0].numpy()\n",
    "plt.imshow(image,cmap = 'gray')\n",
    "plt.title(f\"Label:{train_dataset.targets[0]}\")\n",
    "plt.show()"
   ]
  },
  {
   "cell_type": "markdown",
   "id": "2c192bf4-b799-4e89-88b9-117f257eb187",
   "metadata": {},
   "source": [
    "## dataset的通用方法：__len__ __getitem__"
   ]
  },
  {
   "cell_type": "code",
   "execution_count": 18,
   "id": "60fb215c-6be4-4aa1-9388-adbba9de4e90",
   "metadata": {},
   "outputs": [
    {
     "ename": "AttributeError",
     "evalue": "'MNIST' object has no attribute 'len'",
     "output_type": "error",
     "traceback": [
      "\u001b[1;31m---------------------------------------------------------------------------\u001b[0m",
      "\u001b[1;31mAttributeError\u001b[0m                            Traceback (most recent call last)",
      "Cell \u001b[1;32mIn[18], line 1\u001b[0m\n\u001b[1;32m----> 1\u001b[0m \u001b[38;5;28mprint\u001b[39m(train_dataset\u001b[38;5;241m.\u001b[39mlen())\n",
      "\u001b[1;31mAttributeError\u001b[0m: 'MNIST' object has no attribute 'len'"
     ]
    }
   ],
   "source": [
    "print(train_dataset.len())#错误示范"
   ]
  },
  {
   "cell_type": "code",
   "execution_count": 20,
   "id": "6aace047-467f-4ab2-b6f0-b16e2adc2c91",
   "metadata": {},
   "outputs": [
    {
     "name": "stdout",
     "output_type": "stream",
     "text": [
      "60000\n"
     ]
    }
   ],
   "source": [
    "print(len(train_dataset))#内置的__len__使得可以使用此函数获取尺寸"
   ]
  },
  {
   "cell_type": "code",
   "execution_count": 29,
   "id": "d0c50533-dfba-4010-ba6c-858de3573327",
   "metadata": {},
   "outputs": [
    {
     "name": "stdout",
     "output_type": "stream",
     "text": [
      "tensor(-0.4242)\n"
     ]
    }
   ],
   "source": [
    "print(train_dataset[0][0][0][0][0])#getitem使得一个对象能使用【】来获取其中某个元素"
   ]
  },
  {
   "cell_type": "markdown",
   "id": "3f35ee25-1588-4a0e-9ca2-2ea1d968d2a3",
   "metadata": {},
   "source": [
    "# 加载器"
   ]
  },
  {
   "cell_type": "markdown",
   "id": "dc438fee-e17d-40bf-ae06-4c55ed376707",
   "metadata": {
    "jp-MarkdownHeadingCollapsed": true
   },
   "source": [
    "## 先介绍一下迭代器的基础概念：（需要的时候打开看，平时折叠起来把）\n"
   ]
  },
  {
   "cell_type": "markdown",
   "id": "a086114e-bd1f-4f65-9339-369471269b46",
   "metadata": {},
   "source": [
    "包含 __iter__() 和 __next__() 两个特殊方法。\n",
    "迭代器（Iterator）是 Python 中一个非常重要的基础概念，它为我们提供了一种统一的方式来遍历各种可迭代对象。下面从迭代器的定义、工作原理、创建和使用等方面进行详细介绍。\n",
    "\n",
    "### 定义\n",
    "迭代器是一种对象，它实现了迭代器协议，即包含 `__iter__()` 和 `__next__()` 两个特殊方法。迭代器可以用来逐个访问容器（如列表、元组、字典等）中的元素，并且能够记住当前遍历的位置。\n",
    "\n",
    "### 工作原理\n",
    "- **`__iter__()` 方法**：该方法返回迭代器对象本身，它使得对象可以在 `for` 循环等迭代场景中使用。\n",
    "- **`__next__()` 方法**：该方法返回迭代器的下一个元素。当没有更多元素时，会抛出 `StopIteration` 异常，以此来表示迭代结束。\n",
    "\n",
    "### 创建迭代器\n",
    "在 Python 中，有多种方式可以创建迭代器：\n",
    "\n",
    "#### 1. 使用内置的 `iter()` 函数\n",
    "可以使用 `iter()` 函数将可迭代对象（如列表、元组、字符串等）转换为迭代器。示例如下：\n",
    "```python\n",
    "my_list = [1, 2, 3, 4, 5]\n",
    "my_iterator = iter(my_list)\n",
    "\n",
    "# 使用 next() 函数逐个获取元素\n",
    "print(next(my_iterator))  # 输出: 1\n",
    "print(next(my_iterator))  # 输出: 2\n",
    "```\n",
    "\n",
    "#### 2. 自定义迭代器类\n",
    "可以通过定义一个类并实现 `__iter__()` 和 `__next__()` 方法来创建自定义的迭代器。示例如下：\n",
    "```python\n",
    "class MyIterator:\n",
    "    def __init__(self, start, end):\n",
    "        self.current = start\n",
    "        self.end = end\n",
    "\n",
    "    def __iter__(self):\n",
    "        return self\n",
    "\n",
    "    def __next__(self):\n",
    "        if self.current < self.end:\n",
    "            value = self.current\n",
    "            self.current += 1\n",
    "            return value\n",
    "        else:\n",
    "            raise StopIteration\n",
    "\n",
    "# 创建自定义迭代器对象\n",
    "my_iter = MyIterator(0, 3)\n",
    "\n",
    "# 使用 next() 函数逐个获取元素\n",
    "print(next(my_iter))  # 输出: 0\n",
    "print(next(my_iter))  # 输出: 1\n",
    "print(next(my_iter))  # 输出: 2\n",
    "try:\n",
    "    print(next(my_iter))  # 抛出 StopIteration 异常\n",
    "except StopIteration:\n",
    "    print(\"迭代结束\")\n",
    "```\n",
    "\n",
    "### 迭代器的使用场景\n",
    "#### 1. `for` 循环\n",
    "`for` 循环在底层使用了迭代器来遍历可迭代对象。例如：\n",
    "```python\n",
    "my_list = [1, 2, 3, 4, 5]\n",
    "for item in my_list:\n",
    "    print(item)\n",
    "```\n",
    "在这个例子中，`for` 循环会自动调用 `iter(my_list)` 将列表转换为迭代器，然后不断调用 `next()` 方法获取元素，直到抛出 `StopIteration` 异常。\n",
    "\n",
    "#### 2. 生成器表达式\n",
    "生成器表达式是一种简洁的创建迭代器的方式。示例如下：\n",
    "```python\n",
    "my_generator = (x * 2 for x in range(5))\n",
    "for item in my_generator:\n",
    "    print(item)\n",
    "```\n",
    "这里的 `(x * 2 for x in range(5))` 就是一个生成器表达式，它返回一个迭代器，通过 `for` 循环可以逐个获取元素。\n",
    "\n",
    "### 迭代器的优点\n",
    "- **节省内存**：迭代器是惰性求值的，即只有在需要时才会生成下一个元素，不需要一次性将所有元素加载到内存中，因此可以处理大规模的数据。\n",
    "- **统一的遍历方式**：迭代器提供了一种统一的方式来遍历各种可迭代对象，使得代码更加简洁和通用。\n",
    "\n",
    "总之，迭代器是 Python 中一个强大且基础的概念，理解和掌握迭代器的使用对于编写高效、简洁的 Python 代码非常重要。 "
   ]
  },
  {
   "cell_type": "markdown",
   "id": "44ea7899-08a3-45c5-8a32-7b7d8dcc1cf5",
   "metadata": {},
   "source": [
    "## 介绍一下dataloader"
   ]
  },
  {
   "cell_type": "code",
   "execution_count": 7,
   "id": "7603829f-7eeb-430c-9de7-8d9e95893cfa",
   "metadata": {},
   "outputs": [],
   "source": [
    "train_loader = torch.utils.data.DataLoader(\n",
    "    train_dataset, \n",
    "    batch_size=64,  # 每批加载 64 张图像\n",
    "    shuffle=True    # 打乱数据顺序\n",
    ")\n",
    "test_loader = torch.utils.data.DataLoader(\n",
    "    test_dataset, \n",
    "    batch_size=1000,  # 每批加载 1000 张图像\n",
    "    shuffle=False     # 测试集不需要打乱顺序\n",
    ")"
   ]
  },
  {
   "cell_type": "code",
   "execution_count": 9,
   "id": "b51dae90-3ea6-437b-ad8a-8ac618c11a8f",
   "metadata": {},
   "outputs": [
    {
     "name": "stdout",
     "output_type": "stream",
     "text": [
      "torch.Size([64, 1, 28, 28])\n",
      "torch.Size([64])\n"
     ]
    },
    {
     "data": {
      "image/png": "[encoded data removed]",
      "text/plain": [
       "<Figure size 640x480 with 1 Axes>"
      ]
     },
     "metadata": {},
     "output_type": "display_data"
    }
   ],
   "source": [
    "# 从 train_loader 中取一个 batch\n",
    "images, labels = next(iter(train_loader))\n",
    "\n",
    "# 打印图像和标签的形状\n",
    "print(images.shape)  # 输出: torch.Size([64, 1, 28, 28])\n",
    "print(labels.shape)  # 输出: torch.Size([64])\n",
    "\n",
    "# 显示第一张图像\n",
    "import matplotlib.pyplot as plt\n",
    "plt.imshow(images[0].squeeze(), cmap='gray')  # squeeze() 去掉通道维度\n",
    "plt.title(f\"Label: {labels[0]}\")\n",
    "plt.show()"
   ]
  },
  {
   "cell_type": "markdown",
   "id": "f5a503ac-32f1-446d-809d-e30d322cb6c9",
   "metadata": {},
   "source": [
    "# 定义神经网络："
   ]
  },
  {
   "cell_type": "code",
   "execution_count": 31,
   "id": "42a52638-b376-40c2-91df-44ae5be5053c",
   "metadata": {},
   "outputs": [],
   "source": [
    "class MNISTclassifyer(nn.Module):\n",
    "    def __init__(self):\n",
    "        super().__init__()\n",
    "        self.flatten = nn.Flatten()\n",
    "        self.fc1 = nn.Linear(28*28,100) #不加self导致局部变量，会使得其他方法如forward无法使用它们\n",
    "        self.fc2 = nn.Linear(100,100)\n",
    "        self.fc3 = nn.Linear(100,10)\n",
    "    def forward(self,x): #若把 forward 方法的名称写成 foward 这种错误的形式，会导致一系列问题：e.g. 无法直接调用模型实例\n",
    "        x = self.flatten(x)\n",
    "        x = torch.relu(self.fc1(x))\n",
    "        x = torch.relu(self.fc2(x))\n",
    "        x = self.fc3(x)#不加relu，因为要用cross en loss\n",
    "        return x\n",
    "        \n",
    "        "
   ]
  },
  {
   "cell_type": "code",
   "execution_count": 34,
   "id": "53f63724-43ac-4000-b3c5-e53de2be663d",
   "metadata": {},
   "outputs": [
    {
     "name": "stdout",
     "output_type": "stream",
     "text": [
      "tensor([[ 0.0377, -0.0101, -0.2376,  0.2009, -0.0737,  0.1727,  0.0468,  0.0218,\n",
      "         -0.0259, -0.0271]], grad_fn=<AddmmBackward0>)\n"
     ]
    }
   ],
   "source": [
    "classifyer = MNISTclassifyer()\n",
    "print(classifyer(torch.randn(1,1,28,28)))#测试一下这个网络是不是能用的"
   ]
  },
  {
   "cell_type": "code",
   "execution_count": null,
   "id": "60b9262c-df03-48d9-a06c-9a7dfbb9ee0e",
   "metadata": {},
   "outputs": [],
   "source": []
  },
  {
   "cell_type": "code",
   "execution_count": null,
   "id": "b9e16ba1-248a-4955-92da-9dfc215991d0",
   "metadata": {},
   "outputs": [],
   "source": []
  }
 ],
 "metadata": {
  "kernelspec": {
   "display_name": "Python [conda env:.conda-ml_data_env] *",
   "language": "python",
   "name": "conda-env-.conda-ml_data_env-py"
  },
  "language_info": {
   "codemirror_mode": {
    "name": "ipython",
    "version": 3
   },
   "file_extension": ".py",
   "mimetype": "text/x-python",
   "name": "python",
   "nbconvert_exporter": "python",
   "pygments_lexer": "ipython3",
   "version": "3.12.8"
  }
 },
 "nbformat": 4,
 "nbformat_minor": 5
}
